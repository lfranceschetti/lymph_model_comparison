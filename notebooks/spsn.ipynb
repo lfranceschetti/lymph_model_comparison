{
 "cells": [
  {
   "cell_type": "markdown",
   "metadata": {},
   "source": [
    "# Combination of SpSn of different Modalities "
   ]
  },
  {
   "cell_type": "markdown",
   "metadata": {},
   "source": [
    "Definitions:\n",
    "$$C = \\{Consesus\\ decision = involved\\}$$\n",
    "$$X = \\{True\\ involvement = involved\\}$$\n",
    "$$A_i = \\{modality\\ i = involved\\}$$\n",
    "$$D = \\{possible\\ diagnoses\\}$$\n",
    "\n",
    "$$P(C \\mid X)$$"
   ]
  },
  {
   "cell_type": "code",
   "execution_count": 53,
   "metadata": {},
   "outputs": [],
   "source": [
    "import matplotlib.pyplot as plt\n",
    "import numpy as np\n",
    "import itertools"
   ]
  },
  {
   "cell_type": "code",
   "execution_count": 54,
   "metadata": {},
   "outputs": [],
   "source": [
    "spsnA = [0.66,0.73]\n",
    "spsnB = [0.83, 0.75]\n",
    "spsnC = [0.7, 0.84]\n",
    "spsns = [spsnA, spsnB,spsnC]"
   ]
  },
  {
   "cell_type": "code",
   "execution_count": 55,
   "metadata": {},
   "outputs": [
    {
     "name": "stdout",
     "output_type": "stream",
     "text": [
      "[0.0108 0.0567 0.0324 0.1701 0.0292 0.1533 0.0876 0.4599]\n",
      "[0.38346 0.16434 0.07854 0.03366 0.19754 0.08466 0.04046 0.01734]\n",
      "[-0.37266 -0.10764 -0.04614  0.13644 -0.16834  0.06864  0.04714  0.44256]\n",
      "0.8709\n",
      "0.82388\n"
     ]
    }
   ],
   "source": [
    "def consensus_spsn(spsns):\n",
    "    possible_D = list(itertools.product([0,1], repeat=len(spsns)))\n",
    "    p_D_X = np.ones(shape=(len(possible_D),))\n",
    "    p_D_nX = np.ones(shape=(len(possible_D),))\n",
    "    p_decision = np.full(shape=(len(possible_D),), fill_value= -1)\n",
    "    for k, inv in enumerate(possible_D):\n",
    "        for i, spsn in enumerate(spsns):\n",
    "            p_Ai_X = spsn[1] if inv[i] else (1-spsn[1])\n",
    "            p_Ai_nX = (1-spsn[0]) if inv[i] else spsn[0]\n",
    "            p_D_X[k] *= p_Ai_X\n",
    "            p_D_nX[k] *= p_Ai_nX\n",
    "\n",
    "    p_decision = (p_D_X - p_D_nX)        \n",
    "    print(p_D_X)\n",
    "    print(p_D_nX)\n",
    "    print(p_decision)\n",
    "    p_C_X = 0\n",
    "    p_C_nX = 0\n",
    "    for i, pD in enumerate(p_decision):\n",
    "        if (pD >= 0):\n",
    "            p_C_X += p_D_X[i]\n",
    "        if (pD < 0):\n",
    "            p_C_nX += p_D_nX[i]\n",
    "    print(p_C_X)\n",
    "    print(p_C_nX)\n",
    "    \n",
    "consensus_spsn(spsns)\n",
    "\n",
    "possible_D = list(itertools.product([0,1], repeat=len(spsns)))\n",
    "p_D_X = np.ones(shape=(len(possible_D),))\n",
    "p_D_nX = np.ones(shape=(len(possible_D),))\n",
    "p_decision = np.full(shape=(len(possible_D),), fill_value= -1)\n",
    "for k, inv in enumerate(possible_D):\n",
    "    for i, spsn in enumerate(spsns):\n",
    "        p_Ai_X = spsn[1] if inv[i] else (1-spsn[1])\n",
    "        p_Ai_nX = (1-spsn[0]) if inv[i] else spsn[0]\n",
    "        p_D_X[k] *= p_Ai_X\n",
    "        p_D_nX[k] *= p_Ai_nX\n",
    "\n",
    "p_decision = (p_D_X - p_D_nX)        \n",
    "p_C_X = 0\n",
    "p_C_nX = 0\n",
    "for i, pD in enumerate(p_decision):\n",
    "    if (pD >= 0):\n",
    "        p_C_X += p_D_X[i]\n",
    "    if (pD < 0):\n",
    "        p_C_nX += p_D_nX[i]\n",
    "\n",
    "\n",
    "\n",
    "possible_D_names = [f\"{d}\" for d in possible_D]"
   ]
  },
  {
   "cell_type": "code",
   "execution_count": 56,
   "metadata": {},
   "outputs": [
    {
     "name": "stdout",
     "output_type": "stream",
     "text": [
      "[0.0108 0.0567 0.0324 0.1701 0.0292 0.1533 0.0876 0.4599]\n"
     ]
    },
    {
     "data": {
      "image/png": "[encoded data removed]",
      "text/plain": [
       "<Figure size 432x288 with 1 Axes>"
      ]
     },
     "metadata": {
      "needs_background": "light"
     },
     "output_type": "display_data"
    }
   ],
   "source": [
    "plt.bar(possible_D_names, p_D_X)\n",
    "print(p_D_X)"
   ]
  },
  {
   "cell_type": "code",
   "execution_count": 57,
   "metadata": {},
   "outputs": [
    {
     "name": "stdout",
     "output_type": "stream",
     "text": [
      "[0.38346 0.16434 0.07854 0.03366 0.19754 0.08466 0.04046 0.01734]\n"
     ]
    },
    {
     "data": {
      "image/png": "[encoded data removed]",
      "text/plain": [
       "<Figure size 432x288 with 1 Axes>"
      ]
     },
     "metadata": {
      "needs_background": "light"
     },
     "output_type": "display_data"
    }
   ],
   "source": [
    "plt.bar(possible_D_names, p_D_nX)\n",
    "print(p_D_nX)"
   ]
  },
  {
   "cell_type": "code",
   "execution_count": 58,
   "metadata": {},
   "outputs": [
    {
     "name": "stdout",
     "output_type": "stream",
     "text": [
      "[-0.37266 -0.10764 -0.04614  0.13644 -0.16834  0.06864  0.04714  0.44256]\n"
     ]
    },
    {
     "data": {
      "image/png": "[encoded data removed]",
      "text/plain": [
       "<Figure size 432x288 with 1 Axes>"
      ]
     },
     "metadata": {
      "needs_background": "light"
     },
     "output_type": "display_data"
    }
   ],
   "source": [
    "plt.bar(possible_D_names, p_decision)\n",
    "print(p_decision)"
   ]
  },
  {
   "cell_type": "code",
   "execution_count": 59,
   "metadata": {},
   "outputs": [],
   "source": [
    "### Simulated Sensitivity"
   ]
  }
 ],
 "metadata": {
  "interpreter": {
   "hash": "f0edc8c1ff3b1aad8a96a9e97b3787b1b6a49d95a8054bbd3a93bbf2a1cbc7a3"
  },
  "kernelspec": {
   "display_name": "Python 3.8.12 ('lymph2')",
   "language": "python",
   "name": "python3"
  },
  "language_info": {
   "codemirror_mode": {
    "name": "ipython",
    "version": 3
   },
   "file_extension": ".py",
   "mimetype": "text/x-python",
   "name": "python",
   "nbconvert_exporter": "python",
   "pygments_lexer": "ipython3",
   "version": "3.8.8"
  },
  "orig_nbformat": 4
 },
 "nbformat": 4,
 "nbformat_minor": 2
}
