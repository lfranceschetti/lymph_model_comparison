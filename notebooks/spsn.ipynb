{
 "cells": [
  {
   "cell_type": "code",
   "execution_count": 1,
   "metadata": {},
   "outputs": [],
   "source": [
    "import matplotlib.pyplot as plt\n",
    "import numpy as np"
   ]
  },
  {
   "cell_type": "code",
   "execution_count": 2,
   "metadata": {},
   "outputs": [],
   "source": [
    "spsnA = [0.66,0.73]\n",
    "spsnB = [0.83, 0.33]"
   ]
  },
  {
   "cell_type": "code",
   "execution_count": 3,
   "metadata": {},
   "outputs": [],
   "source": [
    "def consensus_spsn(spsnA, spsnB, involvement):\n",
    "    pass\n",
    "\n",
    "def calculate_p_D(inv):\n",
    "    p_A_X = spsnA[1] if inv[0] else (1-spsnA[0])\n",
    "    p_B_X = spsnB[1] if inv[1] else (1-spsnB[0])\n",
    "    p_A_nX = (1-spsnA[1]) if inv[0] else spsnA[0]\n",
    "    p_B_nX = (1-spsnB[1]) if inv[1] else spsnB[0]\n",
    "    p_D_X = p_A_X * p_B_X\n",
    "    p_D_nX = p_A_nX * p_B_nX\n",
    "    return (p_D_X, p_D_nX)\n",
    "\n",
    "patient_D = (0,1)\n",
    "possible_D = [(0,0),(0,1),(1,0),(1,1)]\n",
    "p_D_X = [calculate_p_D(inv)[0] for inv in possible_D]\n",
    "p_D_nX = [calculate_p_D(inv)[1] for inv in possible_D]\n",
    "\n",
    "p_decision = [(calculate_p_D(inv)[0] - calculate_p_D(inv)[1]) for inv in possible_D]\n",
    "\n",
    "possible_D_names = [\"(0,0)\",\"(0,1)\",\"(1,0)\",\"(1,1)\"]"
   ]
  },
  {
   "cell_type": "code",
   "execution_count": 4,
   "metadata": {},
   "outputs": [
    {
     "name": "stdout",
     "output_type": "stream",
     "text": [
      "[0.05780000000000001, 0.1122, 0.12410000000000003, 0.2409]\n"
     ]
    },
    {
     "data": {
      "image/png": "[encoded data removed]",
      "text/plain": [
       "<Figure size 432x288 with 1 Axes>"
      ]
     },
     "metadata": {
      "needs_background": "light"
     },
     "output_type": "display_data"
    }
   ],
   "source": [
    "plt.bar(possible_D_names, p_D_X)\n",
    "print(p_D_X)"
   ]
  },
  {
   "cell_type": "code",
   "execution_count": 5,
   "metadata": {},
   "outputs": [
    {
     "data": {
      "text/plain": [
       "<BarContainer object of 4 artists>"
      ]
     },
     "execution_count": 5,
     "metadata": {},
     "output_type": "execute_result"
    },
    {
     "data": {
      "image/png": "[encoded data removed]",
      "text/plain": [
       "<Figure size 432x288 with 1 Axes>"
      ]
     },
     "metadata": {
      "needs_background": "light"
     },
     "output_type": "display_data"
    }
   ],
   "source": [
    "plt.bar(possible_D_names, p_D_nX)"
   ]
  },
  {
   "cell_type": "code",
   "execution_count": 7,
   "metadata": {},
   "outputs": [
    {
     "name": "stdout",
     "output_type": "stream",
     "text": [
      "[-0.48999999999999994, -0.32999999999999996, -0.09999999999999996, 0.06]\n"
     ]
    },
    {
     "data": {
      "image/png": "[encoded data removed]",
      "text/plain": [
       "<Figure size 432x288 with 1 Axes>"
      ]
     },
     "metadata": {
      "needs_background": "light"
     },
     "output_type": "display_data"
    }
   ],
   "source": [
    "plt.bar(possible_D_names, p_decision)\n",
    "print(p_decision)"
   ]
  },
  {
   "cell_type": "code",
   "execution_count": 8,
   "metadata": {},
   "outputs": [
    {
     "name": "stdout",
     "output_type": "stream",
     "text": [
      "[-1.0, -1.0, -1.0, 1.0]\n",
      "0.06122448979591838\n",
      "0.9387755102040817\n",
      "1.9673499999999997\n",
      "0.15664021739130435\n",
      "0.45028037383177566\n"
     ]
    }
   ],
   "source": [
    "consensus_decisions = [np.sign(x) for x in p_decision]\n",
    "print(consensus_decisions)\n",
    "p_Cs = 0\n",
    "p_nCs = 0\n",
    "for i, pD in enumerate(p_decision):\n",
    "    if (consensus_decisions[i]==1.0):\n",
    "        p_Cs += pD\n",
    "    else:\n",
    "        p_nCs -= pD\n",
    "p_C = p_Cs / (p_Cs + p_nCs) \n",
    "p_nC = p_nCs / (p_Cs + p_nCs) \n",
    "print(p_C)\n",
    "print(p_nC)\n",
    "\n",
    "p_X_C = 0\n",
    "p_X_nC = 0\n",
    "for i, pD in enumerate(p_D):\n",
    "    if (consensus_decisions[i]==1.0):\n",
    "        p_X_C += p_D_X[i]\n",
    "    else:\n",
    "        p_X_nC += p_D_X[i]\n",
    "        \n",
    "p_X_C = p_X_C / (2* p_C)\n",
    "p_X_nC = p_X_nC / (2* p_nC)\n",
    "print(p_X_C)\n",
    "print(p_X_nC)\n",
    "\n",
    "p_C_X = (p_X_C * p_C) / ((p_X_C * p_C)+(p_X_nC * p_nC))\n",
    "print(p_C_X)\n",
    "\n"
   ]
  },
  {
   "cell_type": "code",
   "execution_count": 9,
   "metadata": {},
   "outputs": [],
   "source": [
    "### Simulated Sensitivity"
   ]
  }
 ],
 "metadata": {
  "interpreter": {
   "hash": "f0edc8c1ff3b1aad8a96a9e97b3787b1b6a49d95a8054bbd3a93bbf2a1cbc7a3"
  },
  "kernelspec": {
   "display_name": "Python 3.8.12 ('lymph2')",
   "language": "python",
   "name": "python3"
  },
  "language_info": {
   "codemirror_mode": {
    "name": "ipython",
    "version": 3
   },
   "file_extension": ".py",
   "mimetype": "text/x-python",
   "name": "python",
   "nbconvert_exporter": "python",
   "pygments_lexer": "ipython3",
   "version": "3.8.12"
  },
  "orig_nbformat": 4
 },
 "nbformat": 4,
 "nbformat_minor": 2
}
