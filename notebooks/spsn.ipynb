{
 "cells": [
  {
   "cell_type": "markdown",
   "metadata": {},
   "source": [
    "# Combination of SpSn of different Modalities "
   ]
  },
  {
   "cell_type": "markdown",
   "metadata": {},
   "source": [
    "Definitions:\n",
    "$$C = \\{Consesus\\ decision\\}\\ \\ \\ \\ X = \\{True\\ involvement\\}\\ \\ \\ \\ A_i = \\{modality\\ i\\ involvement\\}\\ \\ \\ \\ D = \\{possible\\ diagnoses\\}\\ \\ \\ \\ n = \\#\\ of\\ modalities$$\n",
    "\n",
    "\n",
    "Each of the modalities have different specificity and sensitivity defined as:\n",
    "\n",
    "$$specificity: P(A_{i} = 0 \\mid X = 0)$$\n",
    "$$sensitivity: P(A_{i} = 1 \\mid X = 1)$$\n",
    "\n",
    "and we want to find the respective values for our consensus decision:\n",
    "$$specificity: P(C = 0 \\mid X = 0)$$\n",
    "$$sensitivity: P(C = 1 \\mid X = 1)$$\n",
    "\n",
    "The diagnoses of our seperate modalities we can combine in a single diagnose (spsn of different modalities are independent of each other)\n",
    "$$P(D \\mid X) = P(\\bigcap_{i=1}^{n}A_{i} \\mid X) = \\prod_{i=1}^{n} P(A_{i} \\mid X)$$\n",
    "\n",
    "\n",
    "We defined our consesus decision s.t. \n",
    "\n",
    "$$C= \n",
    "\\begin{cases}\n",
    "    1 & \\text{if } P(D \\mid X=1) > P(D \\mid X=0)\\\\\n",
    "    0              & \\text{otherwise}\n",
    "\\end{cases}$$\n",
    "\n",
    "\n",
    "We can call $D_{C=1}$ the subset of diagnoses for which the condition $P(D \\mid X=1) > P(D \\mid X=0)$ holds and give the overall specificity and sensitivity based on this\n",
    "$$P(C = 0 \\mid X = 0) = \\sum P(D_{C=0} \\mid X=0)$$\n",
    "$$P(C = 1 \\mid X = 1) = \\sum P(D_{C=1} \\mid X=1)$$"
   ]
  },
  {
   "cell_type": "code",
   "execution_count": 7,
   "metadata": {},
   "outputs": [],
   "source": [
    "import matplotlib.pyplot as plt\n",
    "import numpy as np\n",
    "import itertools"
   ]
  },
  {
   "cell_type": "code",
   "execution_count": 8,
   "metadata": {},
   "outputs": [],
   "source": [
    "spsnA1 = [0.66,0.73]\n",
    "spsnA2 = [0.83, 0.75]\n",
    "spsnA3 = [0.7, 0.84]\n",
    "spsns = [spsnA1, spsnA1,spsnA1]"
   ]
  },
  {
   "cell_type": "code",
   "execution_count": 15,
   "metadata": {},
   "outputs": [
    {
     "name": "stdout",
     "output_type": "stream",
     "text": [
      "0.731808\n",
      "0.8206659999999999\n"
     ]
    }
   ],
   "source": [
    "possible_D = list(itertools.product([0,1], repeat=len(spsns)))\n",
    "p_D_X = np.ones(shape=(len(possible_D),))\n",
    "p_D_nX = np.ones(shape=(len(possible_D),))\n",
    "p_decision = np.full(shape=(len(possible_D),), fill_value= -1)\n",
    "for k, inv in enumerate(possible_D):\n",
    "    for i, spsn in enumerate(spsns):\n",
    "        p_Ai_X = spsn[1] if inv[i] else (1-spsn[1])\n",
    "        p_Ai_nX = (1-spsn[0]) if inv[i] else spsn[0]\n",
    "        p_D_X[k] *= p_Ai_X\n",
    "        p_D_nX[k] *= p_Ai_nX\n",
    "\n",
    "p_decision = (p_D_X - p_D_nX)        \n",
    "p_C_X = 0\n",
    "p_C_nX = 0\n",
    "for i, pD in enumerate(p_decision):\n",
    "    if (pD >= 0):\n",
    "        p_C_X += p_D_X[i]\n",
    "    if (pD < 0):\n",
    "        p_C_nX += p_D_nX[i]\n",
    "print(p_C_nX)\n",
    "print(p_C_X)\n",
    "\n",
    "\n",
    "\n",
    "possible_D_names = [f\"{d}\" for d in possible_D]"
   ]
  },
  {
   "cell_type": "code",
   "execution_count": 10,
   "metadata": {},
   "outputs": [
    {
     "name": "stdout",
     "output_type": "stream",
     "text": [
      "[0.019683 0.053217 0.053217 0.143883 0.053217 0.143883 0.143883 0.389017]\n"
     ]
    },
    {
     "data": {
      "image/png": "[encoded data removed]",
      "text/plain": [
       "<Figure size 432x288 with 1 Axes>"
      ]
     },
     "metadata": {
      "needs_background": "light"
     },
     "output_type": "display_data"
    }
   ],
   "source": [
    "plt.bar(possible_D_names, p_D_X)\n",
    "print(p_D_X)"
   ]
  },
  {
   "cell_type": "code",
   "execution_count": 11,
   "metadata": {},
   "outputs": [
    {
     "name": "stdout",
     "output_type": "stream",
     "text": [
      "[0.287496 0.148104 0.148104 0.076296 0.148104 0.076296 0.076296 0.039304]\n"
     ]
    },
    {
     "data": {
      "image/png": "[encoded data removed]",
      "text/plain": [
       "<Figure size 432x288 with 1 Axes>"
      ]
     },
     "metadata": {
      "needs_background": "light"
     },
     "output_type": "display_data"
    }
   ],
   "source": [
    "plt.bar(possible_D_names, p_D_nX)\n",
    "print(p_D_nX)"
   ]
  },
  {
   "cell_type": "code",
   "execution_count": 12,
   "metadata": {},
   "outputs": [
    {
     "name": "stdout",
     "output_type": "stream",
     "text": [
      "[-0.267813 -0.094887 -0.094887  0.067587 -0.094887  0.067587  0.067587\n",
      "  0.349713]\n"
     ]
    },
    {
     "data": {
      "image/png": "[encoded data removed]",
      "text/plain": [
       "<Figure size 432x288 with 1 Axes>"
      ]
     },
     "metadata": {
      "needs_background": "light"
     },
     "output_type": "display_data"
    }
   ],
   "source": [
    "plt.bar(possible_D_names, p_decision)\n",
    "print(p_decision)"
   ]
  },
  {
   "cell_type": "code",
   "execution_count": 13,
   "metadata": {},
   "outputs": [],
   "source": [
    "### Simulated Sensitivity"
   ]
  }
 ],
 "metadata": {
  "interpreter": {
   "hash": "f0edc8c1ff3b1aad8a96a9e97b3787b1b6a49d95a8054bbd3a93bbf2a1cbc7a3"
  },
  "kernelspec": {
   "display_name": "Python 3.8.12 ('lymph2')",
   "language": "python",
   "name": "python3"
  },
  "language_info": {
   "codemirror_mode": {
    "name": "ipython",
    "version": 3
   },
   "file_extension": ".py",
   "mimetype": "text/x-python",
   "name": "python",
   "nbconvert_exporter": "python",
   "pygments_lexer": "ipython3",
   "version": "3.8.8"
  },
  "orig_nbformat": 4
 },
 "nbformat": 4,
 "nbformat_minor": 2
}
