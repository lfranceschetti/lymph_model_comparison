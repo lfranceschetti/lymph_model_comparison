{
 "cells": [
  {
   "cell_type": "code",
   "execution_count": 10,
   "metadata": {},
   "outputs": [],
   "source": [
    "import matplotlib.pyplot as plt\n",
    "import numpy as np"
   ]
  },
  {
   "cell_type": "code",
   "execution_count": 11,
   "metadata": {},
   "outputs": [],
   "source": [
    "spsnA = [0.66,0.73]\n",
    "spsnB = [0.83, 0.33]"
   ]
  },
  {
   "cell_type": "code",
   "execution_count": 12,
   "metadata": {},
   "outputs": [],
   "source": [
    "def consensus_spsn(spsnA, spsnB, involvement):\n",
    "    pass\n",
    "\n",
    "def calculate_p_D(inv):\n",
    "    p_A_X = spsnA[1] if inv[0] else (1-spsnA[1])\n",
    "    p_B_X = spsnB[1] if inv[1] else (1-spsnB[1])\n",
    "    p_A_nX = (1-spsnA[0]) if inv[0] else spsnA[0]\n",
    "    p_B_nX = (1-spsnB[0]) if inv[1] else spsnB[0]\n",
    "    p_D_X = p_A_X * p_B_X\n",
    "    p_D_nX = p_A_nX * p_B_nX\n",
    "    return (p_D_X, p_D_nX)\n",
    "\n",
    "patient_D = (0,1)\n",
    "possible_D = [(0,0),(0,1),(1,0),(1,1)]\n",
    "p_D_X = [calculate_p_D(inv)[0] for inv in possible_D]\n",
    "p_D_nX = [calculate_p_D(inv)[1] for inv in possible_D]\n",
    "\n",
    "p_decision = [(calculate_p_D(inv)[0] - calculate_p_D(inv)[1]) for inv in possible_D]\n",
    "\n",
    "possible_D_names = [\"(0,0)\",\"(0,1)\",\"(1,0)\",\"(1,1)\"]"
   ]
  },
  {
   "cell_type": "code",
   "execution_count": 19,
   "metadata": {},
   "outputs": [
    {
     "name": "stdout",
     "output_type": "stream",
     "text": [
      "[0.1809, 0.08910000000000001, 0.4890999999999999, 0.2409]\n"
     ]
    },
    {
     "data": {
      "image/png": "[encoded data removed]",
      "text/plain": [
       "<Figure size 432x288 with 1 Axes>"
      ]
     },
     "metadata": {
      "needs_background": "light"
     },
     "output_type": "display_data"
    }
   ],
   "source": [
    "plt.bar(possible_D_names, p_D_X)\n",
    "print(p_D_X)"
   ]
  },
  {
   "cell_type": "code",
   "execution_count": 20,
   "metadata": {},
   "outputs": [
    {
     "name": "stdout",
     "output_type": "stream",
     "text": [
      "[0.5478, 0.11220000000000004, 0.28219999999999995, 0.05780000000000001]\n"
     ]
    },
    {
     "data": {
      "image/png": "[encoded data removed]",
      "text/plain": [
       "<Figure size 432x288 with 1 Axes>"
      ]
     },
     "metadata": {
      "needs_background": "light"
     },
     "output_type": "display_data"
    }
   ],
   "source": [
    "plt.bar(possible_D_names, p_D_nX)\n",
    "print(p_D_nX)"
   ]
  },
  {
   "cell_type": "code",
   "execution_count": 15,
   "metadata": {},
   "outputs": [
    {
     "name": "stdout",
     "output_type": "stream",
     "text": [
      "[-0.36689999999999995, -0.023100000000000023, 0.20689999999999997, 0.18309999999999998]\n"
     ]
    },
    {
     "data": {
      "image/png": "[encoded data removed]",
      "text/plain": [
       "<Figure size 432x288 with 1 Axes>"
      ]
     },
     "metadata": {
      "needs_background": "light"
     },
     "output_type": "display_data"
    }
   ],
   "source": [
    "plt.bar(possible_D_names, p_decision)\n",
    "print(p_decision)"
   ]
  },
  {
   "cell_type": "code",
   "execution_count": 16,
   "metadata": {},
   "outputs": [
    {
     "name": "stdout",
     "output_type": "stream",
     "text": [
      "0.73\n",
      "0.73\n"
     ]
    }
   ],
   "source": [
    "\n",
    "p_C_X = 0\n",
    "for i, pD in enumerate(p_decision):\n",
    "    if (pD > 0):\n",
    "        p_C_X += p_D_X[i]\n",
    "    \n",
    "print(p_C_X)\n",
    "print(p_C_X)\n",
    "\n"
   ]
  },
  {
   "cell_type": "code",
   "execution_count": 17,
   "metadata": {},
   "outputs": [],
   "source": [
    "### Simulated Sensitivity"
   ]
  }
 ],
 "metadata": {
  "interpreter": {
   "hash": "f0edc8c1ff3b1aad8a96a9e97b3787b1b6a49d95a8054bbd3a93bbf2a1cbc7a3"
  },
  "kernelspec": {
   "display_name": "Python 3.8.12 ('lymph2')",
   "language": "python",
   "name": "python3"
  },
  "language_info": {
   "codemirror_mode": {
    "name": "ipython",
    "version": 3
   },
   "file_extension": ".py",
   "mimetype": "text/x-python",
   "name": "python",
   "nbconvert_exporter": "python",
   "pygments_lexer": "ipython3",
   "version": "3.8.12"
  },
  "orig_nbformat": 4
 },
 "nbformat": 4,
 "nbformat_minor": 2
}
