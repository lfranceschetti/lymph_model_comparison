{
 "cells": [
  {
   "cell_type": "code",
   "execution_count": 1,
   "id": "7fa694d9",
   "metadata": {},
   "outputs": [],
   "source": [
    "import pandas as pd\n",
    "import scipy as sp\n",
    "import numpy as np\n",
    "\n",
    "import emcee\n",
    "from multiprocessing import Pool\n",
    "\n",
    "import matplotlib.pyplot as plt\n",
    "import matplotlib.gridspec as gs\n",
    "from matplotlib import font_manager\n",
    "from matplotlib.colors import LinearSegmentedColormap\n",
    "from matplotlib.colors import ListedColormap\n",
    "from cycler import cycler\n",
    "import corner\n",
    "from typing import Any, Dict, List, Optional, Tuple, Union\n",
    "\n",
    "import lymph"
   ]
  },
  {
   "cell_type": "code",
   "execution_count": 2,
   "id": "58e5edbd",
   "metadata": {},
   "outputs": [
    {
     "name": "stdout",
     "output_type": "stream",
     "text": [
      "Loading patients of late T-stage\n"
     ]
    },
    {
     "name": "stderr",
     "output_type": "stream",
     "text": [
      "100%|██████████| 14336/14336 [00:12<00:00, 1155.54it/s]\n"
     ]
    },
    {
     "name": "stdout",
     "output_type": "stream",
     "text": [
      "Loading patients of early T-stage\n"
     ]
    },
    {
     "name": "stderr",
     "output_type": "stream",
     "text": [
      "100%|██████████| 20864/20864 [00:17<00:00, 1187.82it/s]\n"
     ]
    }
   ],
   "source": [
    "filename = \"../data/extended_system.hdf5\"\n",
    "\n",
    "extended_systm = lymph.utils.system_from_hdf(\n",
    "    filename=filename,\n",
    "    name=\"extended/model\")\n",
    "\n",
    "samples_HMM = emcee.backends.HDFBackend(filename=filename, name=\"extended/samples\").get_chain(flat=True, discard=5000)\n",
    "\n",
    "spread_probs = np.array([sample[:-1] for sample in samples_HMM])\n",
    "late_p_samples = np.array([sample[-1] for sample in samples_HMM])\n",
    "\n",
    "extended_systm.spread_probs = np.mean(spread_probs, axis=0)\n",
    "mean_late_p = np.mean(np.array(late_p_samples), axis=0)\n"
   ]
  },
  {
   "cell_type": "code",
   "execution_count": 19,
   "id": "b107d598",
   "metadata": {},
   "outputs": [
    {
     "name": "stdout",
     "output_type": "stream",
     "text": [
      "(1200000, 11)\n"
     ]
    }
   ],
   "source": [
    "\n",
    "\n",
    "spread = np.array([sample[:-1] for sample in samples_HMM])\n",
    "print(spread.shape)"
   ]
  },
  {
   "cell_type": "markdown",
   "id": "4696f5d7",
   "metadata": {},
   "source": [
    "## Plot Settings\n",
    "\n"
   ]
  },
  {
   "cell_type": "code",
   "execution_count": 5,
   "id": "74295274",
   "metadata": {},
   "outputs": [
    {
     "data": {
      "text/plain": [
       "<Figure size 1889.76x1889.76 with 0 Axes>"
      ]
     },
     "metadata": {},
     "output_type": "display_data"
    }
   ],
   "source": [
    "plt.style.use(\"../styles/lymph.mplstyle\")\n",
    "\n",
    "def set_size(width=\"single\", unit=\"cm\", ratio=\"golden\"):\n",
    "    if width == \"single\":\n",
    "        width = 10\n",
    "    elif width == \"full\":\n",
    "        width = 32\n",
    "    else:\n",
    "        try:\n",
    "            width = width\n",
    "        except:\n",
    "            width = 10\n",
    "\n",
    "    if unit == \"cm\":\n",
    "        width = width / 2.54\n",
    "\n",
    "    if ratio == \"golden\":\n",
    "        ratio = 1.618\n",
    "    else:\n",
    "        ratio = ratio\n",
    "\n",
    "    try:\n",
    "        height = width / ratio\n",
    "    except:\n",
    "        height = width / 1.618\n",
    "\n",
    "    return (width, height)\n",
    "\n",
    "labels = [,r\"$\\tilde{b}_1$\", r\"$\\tilde{b}_2$\", r\"$\\tilde{b}_3$\",\n",
    "          r\"$\\tilde{b}_4$\", r\"$\\tilde{b}_5$\",r\"$\\tilde{b}_7$\",\n",
    "          r\"$\\tilde{t}_{21}$\", r\"$\\tilde{t}_{23}$\", r\"$\\tilde{t}_{25}$\", r\"$\\tilde{t}_{27}$\", r\"$\\tilde{t}_{36}$\"]\n",
    "\n",
    "\n",
    "fig = plt.figure(figsize=set_size(width=\"full\", ratio=1))\n",
    "\n",
    "\n",
    "# USZ colors\n",
    "usz_blue = '#005ea8'\n",
    "usz_green = '#00afa5'\n",
    "usz_red = '#ae0060'\n",
    "usz_orange = '#f17900'\n",
    "usz_gray = '#c5d5db'\n",
    "\n",
    "# colormaps\n",
    "white_to_blue  = LinearSegmentedColormap.from_list(\"white_to_blue\", \n",
    "                                                   [\"#ffffff\", usz_blue], \n",
    "                                                   N=256)\n",
    "white_to_green = LinearSegmentedColormap.from_list(\"white_to_green\", \n",
    "                                                   [\"#ffffff\", usz_green], \n",
    "                                                   N=256)\n",
    "green_to_red   = LinearSegmentedColormap.from_list(\"green_to_red\", \n",
    "                                                   [usz_green, usz_red], \n",
    "                                                   N=256)\n",
    "\n",
    "h = usz_gray.lstrip('#')\n",
    "gray_rgba = tuple(int(h[i:i+2], 16) / 255. for i in (0, 2, 4)) + (1.0,)\n",
    "tmp = LinearSegmentedColormap.from_list(\"tmp\", [usz_green, usz_red], N=128)\n",
    "tmp = tmp(np.linspace(0., 1., 128))\n",
    "tmp = np.vstack([np.array([gray_rgba]*128), tmp])\n",
    "halfGray_halfGreenToRed = ListedColormap(tmp)"
   ]
  },
  {
   "cell_type": "markdown",
   "id": "07de43a7",
   "metadata": {},
   "source": [
    "## Corner Plot\n"
   ]
  },
  {
   "cell_type": "code",
   "execution_count": 20,
   "id": "8222e898",
   "metadata": {},
   "outputs": [
    {
     "name": "stderr",
     "output_type": "stream",
     "text": [
      "WARNING:root:Too few points to create valid contours\n",
      "WARNING:root:Too few points to create valid contours\n",
      "WARNING:root:Too few points to create valid contours\n",
      "WARNING:root:Too few points to create valid contours\n",
      "WARNING:root:Too few points to create valid contours\n",
      "WARNING:root:Too few points to create valid contours\n",
      "WARNING:root:Too few points to create valid contours\n",
      "WARNING:root:Too few points to create valid contours\n",
      "WARNING:root:Too few points to create valid contours\n",
      "WARNING:root:Too few points to create valid contours\n",
      "WARNING:root:Too few points to create valid contours\n",
      "WARNING:root:Too few points to create valid contours\n",
      "WARNING:root:Too few points to create valid contours\n",
      "WARNING:root:Too few points to create valid contours\n",
      "WARNING:root:Too few points to create valid contours\n"
     ]
    },
    {
     "ename": "IndexError",
     "evalue": "list index out of range",
     "output_type": "error",
     "traceback": [
      "\u001b[1;31m---------------------------------------------------------------------------\u001b[0m",
      "\u001b[1;31mIndexError\u001b[0m                                Traceback (most recent call last)",
      "\u001b[1;32mc:\\Users\\Luca\\lymph_notebooks\\notebooks\\plotting.ipynb Cell 7'\u001b[0m in \u001b[0;36m<module>\u001b[1;34m\u001b[0m\n\u001b[1;32m----> <a href='vscode-notebook-cell:/c%3A/Users/Luca/lymph_notebooks/notebooks/plotting.ipynb#ch0000005?line=0'>1</a>\u001b[0m corner\u001b[39m.\u001b[39;49mcorner(spread, labels\u001b[39m=\u001b[39;49mlabels, smooth\u001b[39m=\u001b[39;49m\u001b[39mTrue\u001b[39;49;00m, fig\u001b[39m=\u001b[39;49mfig,\n\u001b[0;32m      <a href='vscode-notebook-cell:/c%3A/Users/Luca/lymph_notebooks/notebooks/plotting.ipynb#ch0000005?line=1'>2</a>\u001b[0m               hist_kwargs\u001b[39m=\u001b[39;49m{\u001b[39m'\u001b[39;49m\u001b[39mhisttype\u001b[39;49m\u001b[39m'\u001b[39;49m: \u001b[39m'\u001b[39;49m\u001b[39mstepfilled\u001b[39;49m\u001b[39m'\u001b[39;49m, \u001b[39m'\u001b[39;49m\u001b[39mcolor\u001b[39;49m\u001b[39m'\u001b[39;49m: usz_blue},\n\u001b[0;32m      <a href='vscode-notebook-cell:/c%3A/Users/Luca/lymph_notebooks/notebooks/plotting.ipynb#ch0000005?line=2'>3</a>\u001b[0m               \u001b[39m*\u001b[39;49m\u001b[39m*\u001b[39;49m{\u001b[39m'\u001b[39;49m\u001b[39mplot_datapoints\u001b[39;49m\u001b[39m'\u001b[39;49m: \u001b[39mFalse\u001b[39;49;00m, \u001b[39m'\u001b[39;49m\u001b[39mno_fill_contours\u001b[39;49m\u001b[39m'\u001b[39;49m: \u001b[39mTrue\u001b[39;49;00m,\n\u001b[0;32m      <a href='vscode-notebook-cell:/c%3A/Users/Luca/lymph_notebooks/notebooks/plotting.ipynb#ch0000005?line=3'>4</a>\u001b[0m                  \u001b[39m\"\u001b[39;49m\u001b[39mdensity_cmap\u001b[39;49m\u001b[39m\"\u001b[39;49m: white_to_blue\u001b[39m.\u001b[39;49mreversed(),\n\u001b[0;32m      <a href='vscode-notebook-cell:/c%3A/Users/Luca/lymph_notebooks/notebooks/plotting.ipynb#ch0000005?line=4'>5</a>\u001b[0m                  \u001b[39m\"\u001b[39;49m\u001b[39mcontour_kwargs\u001b[39;49m\u001b[39m\"\u001b[39;49m: {\u001b[39m\"\u001b[39;49m\u001b[39mcolors\u001b[39;49m\u001b[39m\"\u001b[39;49m: \u001b[39m\"\u001b[39;49m\u001b[39mk\u001b[39;49m\u001b[39m\"\u001b[39;49m},\n\u001b[0;32m      <a href='vscode-notebook-cell:/c%3A/Users/Luca/lymph_notebooks/notebooks/plotting.ipynb#ch0000005?line=5'>6</a>\u001b[0m                  \u001b[39m\"\u001b[39;49m\u001b[39mlevels\u001b[39;49m\u001b[39m\"\u001b[39;49m: np\u001b[39m.\u001b[39;49marray([\u001b[39m0.2\u001b[39;49m, \u001b[39m0.5\u001b[39;49m, \u001b[39m0.8\u001b[39;49m])},\n\u001b[0;32m      <a href='vscode-notebook-cell:/c%3A/Users/Luca/lymph_notebooks/notebooks/plotting.ipynb#ch0000005?line=6'>7</a>\u001b[0m               show_titles\u001b[39m=\u001b[39;49m\u001b[39mTrue\u001b[39;49;00m, title_kwargs\u001b[39m=\u001b[39;49m{\u001b[39m\"\u001b[39;49m\u001b[39mfontsize\u001b[39;49m\u001b[39m\"\u001b[39;49m: \u001b[39m\"\u001b[39;49m\u001b[39mmedium\u001b[39;49m\u001b[39m\"\u001b[39;49m})\n\u001b[0;32m      <a href='vscode-notebook-cell:/c%3A/Users/Luca/lymph_notebooks/notebooks/plotting.ipynb#ch0000005?line=8'>9</a>\u001b[0m axes \u001b[39m=\u001b[39m fig\u001b[39m.\u001b[39mget_axes()\n\u001b[0;32m     <a href='vscode-notebook-cell:/c%3A/Users/Luca/lymph_notebooks/notebooks/plotting.ipynb#ch0000005?line=9'>10</a>\u001b[0m \u001b[39mfor\u001b[39;00m ax \u001b[39min\u001b[39;00m axes:\n",
      "File \u001b[1;32m~\\anaconda3\\envs\\lymph2\\lib\\site-packages\\corner\\corner.py:231\u001b[0m, in \u001b[0;36mcorner\u001b[1;34m(data, bins, range, weights, color, hist_bin_factor, smooth, smooth1d, labels, label_kwargs, titles, show_titles, title_fmt, title_kwargs, truths, truth_color, scale_hist, quantiles, verbose, fig, max_n_ticks, top_ticks, use_math_text, reverse, labelpad, hist_kwargs, group, var_names, filter_vars, coords, divergences, divergences_kwargs, labeller, **hist2d_kwargs)\u001b[0m\n\u001b[0;32m    <a href='file:///c%3A/Users/Luca/anaconda3/envs/lymph2/lib/site-packages/corner/corner.py?line=218'>219</a>\u001b[0m     \u001b[39mif\u001b[39;00m (\n\u001b[0;32m    <a href='file:///c%3A/Users/Luca/anaconda3/envs/lymph2/lib/site-packages/corner/corner.py?line=219'>220</a>\u001b[0m         var_names \u001b[39mis\u001b[39;00m \u001b[39mnot\u001b[39;00m \u001b[39mNone\u001b[39;00m\n\u001b[0;32m    <a href='file:///c%3A/Users/Luca/anaconda3/envs/lymph2/lib/site-packages/corner/corner.py?line=220'>221</a>\u001b[0m         \u001b[39mor\u001b[39;00m filter_vars \u001b[39mis\u001b[39;00m \u001b[39mnot\u001b[39;00m \u001b[39mNone\u001b[39;00m\n\u001b[1;32m   (...)\u001b[0m\n\u001b[0;32m    <a href='file:///c%3A/Users/Luca/anaconda3/envs/lymph2/lib/site-packages/corner/corner.py?line=224'>225</a>\u001b[0m         \u001b[39mor\u001b[39;00m labeller \u001b[39mis\u001b[39;00m \u001b[39mnot\u001b[39;00m \u001b[39mNone\u001b[39;00m\n\u001b[0;32m    <a href='file:///c%3A/Users/Luca/anaconda3/envs/lymph2/lib/site-packages/corner/corner.py?line=225'>226</a>\u001b[0m     ):\n\u001b[0;32m    <a href='file:///c%3A/Users/Luca/anaconda3/envs/lymph2/lib/site-packages/corner/corner.py?line=226'>227</a>\u001b[0m         logging\u001b[39m.\u001b[39mwarning(\n\u001b[0;32m    <a href='file:///c%3A/Users/Luca/anaconda3/envs/lymph2/lib/site-packages/corner/corner.py?line=227'>228</a>\u001b[0m             \u001b[39m\"\u001b[39m\u001b[39mPlease install arviz to use the advanced features of corner\u001b[39m\u001b[39m\"\u001b[39m\n\u001b[0;32m    <a href='file:///c%3A/Users/Luca/anaconda3/envs/lymph2/lib/site-packages/corner/corner.py?line=228'>229</a>\u001b[0m         )\n\u001b[1;32m--> <a href='file:///c%3A/Users/Luca/anaconda3/envs/lymph2/lib/site-packages/corner/corner.py?line=230'>231</a>\u001b[0m     \u001b[39mreturn\u001b[39;00m corner_impl(\n\u001b[0;32m    <a href='file:///c%3A/Users/Luca/anaconda3/envs/lymph2/lib/site-packages/corner/corner.py?line=231'>232</a>\u001b[0m         data,\n\u001b[0;32m    <a href='file:///c%3A/Users/Luca/anaconda3/envs/lymph2/lib/site-packages/corner/corner.py?line=232'>233</a>\u001b[0m         bins\u001b[39m=\u001b[39;49mbins,\n\u001b[0;32m    <a href='file:///c%3A/Users/Luca/anaconda3/envs/lymph2/lib/site-packages/corner/corner.py?line=233'>234</a>\u001b[0m         \u001b[39mrange\u001b[39;49m\u001b[39m=\u001b[39;49m\u001b[39mrange\u001b[39;49m,\n\u001b[0;32m    <a href='file:///c%3A/Users/Luca/anaconda3/envs/lymph2/lib/site-packages/corner/corner.py?line=234'>235</a>\u001b[0m         weights\u001b[39m=\u001b[39;49mweights,\n\u001b[0;32m    <a href='file:///c%3A/Users/Luca/anaconda3/envs/lymph2/lib/site-packages/corner/corner.py?line=235'>236</a>\u001b[0m         color\u001b[39m=\u001b[39;49mcolor,\n\u001b[0;32m    <a href='file:///c%3A/Users/Luca/anaconda3/envs/lymph2/lib/site-packages/corner/corner.py?line=236'>237</a>\u001b[0m         hist_bin_factor\u001b[39m=\u001b[39;49mhist_bin_factor,\n\u001b[0;32m    <a href='file:///c%3A/Users/Luca/anaconda3/envs/lymph2/lib/site-packages/corner/corner.py?line=237'>238</a>\u001b[0m         smooth\u001b[39m=\u001b[39;49msmooth,\n\u001b[0;32m    <a href='file:///c%3A/Users/Luca/anaconda3/envs/lymph2/lib/site-packages/corner/corner.py?line=238'>239</a>\u001b[0m         smooth1d\u001b[39m=\u001b[39;49msmooth1d,\n\u001b[0;32m    <a href='file:///c%3A/Users/Luca/anaconda3/envs/lymph2/lib/site-packages/corner/corner.py?line=239'>240</a>\u001b[0m         labels\u001b[39m=\u001b[39;49mlabels,\n\u001b[0;32m    <a href='file:///c%3A/Users/Luca/anaconda3/envs/lymph2/lib/site-packages/corner/corner.py?line=240'>241</a>\u001b[0m         label_kwargs\u001b[39m=\u001b[39;49mlabel_kwargs,\n\u001b[0;32m    <a href='file:///c%3A/Users/Luca/anaconda3/envs/lymph2/lib/site-packages/corner/corner.py?line=241'>242</a>\u001b[0m         titles\u001b[39m=\u001b[39;49mtitles,\n\u001b[0;32m    <a href='file:///c%3A/Users/Luca/anaconda3/envs/lymph2/lib/site-packages/corner/corner.py?line=242'>243</a>\u001b[0m         show_titles\u001b[39m=\u001b[39;49mshow_titles,\n\u001b[0;32m    <a href='file:///c%3A/Users/Luca/anaconda3/envs/lymph2/lib/site-packages/corner/corner.py?line=243'>244</a>\u001b[0m         title_fmt\u001b[39m=\u001b[39;49mtitle_fmt,\n\u001b[0;32m    <a href='file:///c%3A/Users/Luca/anaconda3/envs/lymph2/lib/site-packages/corner/corner.py?line=244'>245</a>\u001b[0m         title_kwargs\u001b[39m=\u001b[39;49mtitle_kwargs,\n\u001b[0;32m    <a href='file:///c%3A/Users/Luca/anaconda3/envs/lymph2/lib/site-packages/corner/corner.py?line=245'>246</a>\u001b[0m         truths\u001b[39m=\u001b[39;49mtruths,\n\u001b[0;32m    <a href='file:///c%3A/Users/Luca/anaconda3/envs/lymph2/lib/site-packages/corner/corner.py?line=246'>247</a>\u001b[0m         truth_color\u001b[39m=\u001b[39;49mtruth_color,\n\u001b[0;32m    <a href='file:///c%3A/Users/Luca/anaconda3/envs/lymph2/lib/site-packages/corner/corner.py?line=247'>248</a>\u001b[0m         scale_hist\u001b[39m=\u001b[39;49mscale_hist,\n\u001b[0;32m    <a href='file:///c%3A/Users/Luca/anaconda3/envs/lymph2/lib/site-packages/corner/corner.py?line=248'>249</a>\u001b[0m         quantiles\u001b[39m=\u001b[39;49mquantiles,\n\u001b[0;32m    <a href='file:///c%3A/Users/Luca/anaconda3/envs/lymph2/lib/site-packages/corner/corner.py?line=249'>250</a>\u001b[0m         verbose\u001b[39m=\u001b[39;49mverbose,\n\u001b[0;32m    <a href='file:///c%3A/Users/Luca/anaconda3/envs/lymph2/lib/site-packages/corner/corner.py?line=250'>251</a>\u001b[0m         fig\u001b[39m=\u001b[39;49mfig,\n\u001b[0;32m    <a href='file:///c%3A/Users/Luca/anaconda3/envs/lymph2/lib/site-packages/corner/corner.py?line=251'>252</a>\u001b[0m         max_n_ticks\u001b[39m=\u001b[39;49mmax_n_ticks,\n\u001b[0;32m    <a href='file:///c%3A/Users/Luca/anaconda3/envs/lymph2/lib/site-packages/corner/corner.py?line=252'>253</a>\u001b[0m         top_ticks\u001b[39m=\u001b[39;49mtop_ticks,\n\u001b[0;32m    <a href='file:///c%3A/Users/Luca/anaconda3/envs/lymph2/lib/site-packages/corner/corner.py?line=253'>254</a>\u001b[0m         use_math_text\u001b[39m=\u001b[39;49muse_math_text,\n\u001b[0;32m    <a href='file:///c%3A/Users/Luca/anaconda3/envs/lymph2/lib/site-packages/corner/corner.py?line=254'>255</a>\u001b[0m         reverse\u001b[39m=\u001b[39;49mreverse,\n\u001b[0;32m    <a href='file:///c%3A/Users/Luca/anaconda3/envs/lymph2/lib/site-packages/corner/corner.py?line=255'>256</a>\u001b[0m         labelpad\u001b[39m=\u001b[39;49mlabelpad,\n\u001b[0;32m    <a href='file:///c%3A/Users/Luca/anaconda3/envs/lymph2/lib/site-packages/corner/corner.py?line=256'>257</a>\u001b[0m         hist_kwargs\u001b[39m=\u001b[39;49mhist_kwargs,\n\u001b[0;32m    <a href='file:///c%3A/Users/Luca/anaconda3/envs/lymph2/lib/site-packages/corner/corner.py?line=257'>258</a>\u001b[0m         \u001b[39m*\u001b[39;49m\u001b[39m*\u001b[39;49mhist2d_kwargs,\n\u001b[0;32m    <a href='file:///c%3A/Users/Luca/anaconda3/envs/lymph2/lib/site-packages/corner/corner.py?line=258'>259</a>\u001b[0m     )\n\u001b[0;32m    <a href='file:///c%3A/Users/Luca/anaconda3/envs/lymph2/lib/site-packages/corner/corner.py?line=260'>261</a>\u001b[0m \u001b[39mreturn\u001b[39;00m arviz_corner(\n\u001b[0;32m    <a href='file:///c%3A/Users/Luca/anaconda3/envs/lymph2/lib/site-packages/corner/corner.py?line=261'>262</a>\u001b[0m     data,\n\u001b[0;32m    <a href='file:///c%3A/Users/Luca/anaconda3/envs/lymph2/lib/site-packages/corner/corner.py?line=262'>263</a>\u001b[0m     bins\u001b[39m=\u001b[39mbins,\n\u001b[1;32m   (...)\u001b[0m\n\u001b[0;32m    <a href='file:///c%3A/Users/Luca/anaconda3/envs/lymph2/lib/site-packages/corner/corner.py?line=294'>295</a>\u001b[0m     \u001b[39m*\u001b[39m\u001b[39m*\u001b[39mhist2d_kwargs,\n\u001b[0;32m    <a href='file:///c%3A/Users/Luca/anaconda3/envs/lymph2/lib/site-packages/corner/corner.py?line=295'>296</a>\u001b[0m )\n",
      "File \u001b[1;32m~\\anaconda3\\envs\\lymph2\\lib\\site-packages\\corner\\core.py:227\u001b[0m, in \u001b[0;36mcorner_impl\u001b[1;34m(xs, bins, range, weights, color, hist_bin_factor, smooth, smooth1d, labels, label_kwargs, titles, show_titles, title_fmt, title_kwargs, truths, truth_color, scale_hist, quantiles, verbose, fig, max_n_ticks, top_ticks, use_math_text, reverse, labelpad, hist_kwargs, **hist2d_kwargs)\u001b[0m\n\u001b[0;32m    <a href='file:///c%3A/Users/Luca/anaconda3/envs/lymph2/lib/site-packages/corner/core.py?line=224'>225</a>\u001b[0m     \u001b[39m# Add in the column name if it's given.\u001b[39;00m\n\u001b[0;32m    <a href='file:///c%3A/Users/Luca/anaconda3/envs/lymph2/lib/site-packages/corner/core.py?line=225'>226</a>\u001b[0m     \u001b[39mif\u001b[39;00m titles \u001b[39mis\u001b[39;00m \u001b[39mnot\u001b[39;00m \u001b[39mNone\u001b[39;00m:\n\u001b[1;32m--> <a href='file:///c%3A/Users/Luca/anaconda3/envs/lymph2/lib/site-packages/corner/core.py?line=226'>227</a>\u001b[0m         title \u001b[39m=\u001b[39m \u001b[39m\"\u001b[39m\u001b[39m{0}\u001b[39;00m\u001b[39m = \u001b[39m\u001b[39m{1}\u001b[39;00m\u001b[39m\"\u001b[39m\u001b[39m.\u001b[39mformat(titles[i], title)\n\u001b[0;32m    <a href='file:///c%3A/Users/Luca/anaconda3/envs/lymph2/lib/site-packages/corner/core.py?line=228'>229</a>\u001b[0m \u001b[39melif\u001b[39;00m titles \u001b[39mis\u001b[39;00m \u001b[39mnot\u001b[39;00m \u001b[39mNone\u001b[39;00m:\n\u001b[0;32m    <a href='file:///c%3A/Users/Luca/anaconda3/envs/lymph2/lib/site-packages/corner/core.py?line=229'>230</a>\u001b[0m     title \u001b[39m=\u001b[39m \u001b[39m\"\u001b[39m\u001b[39m{0}\u001b[39;00m\u001b[39m\"\u001b[39m\u001b[39m.\u001b[39mformat(titles[i])\n",
      "\u001b[1;31mIndexError\u001b[0m: list index out of range"
     ]
    }
   ],
   "source": [
    "corner.corner(spread, labels=labels, smooth=True, fig=fig,\n",
    "              hist_kwargs={'histtype': 'stepfilled', 'color': usz_blue},\n",
    "              **{'plot_datapoints': False, 'no_fill_contours': True,\n",
    "                 \"density_cmap\": white_to_blue.reversed(),\n",
    "                 \"contour_kwargs\": {\"colors\": \"k\"},\n",
    "                 \"levels\": np.array([0.2, 0.5, 0.8])},\n",
    "              show_titles=True, title_kwargs={\"fontsize\": \"medium\"})\n",
    "\n",
    "axes = fig.get_axes()\n",
    "for ax in axes:\n",
    "    ax.grid(False)\n",
    "\n",
    "\n",
    "plt.savefig(\"../plots/corner_HMM.png\", dpi=300, bbox_inches=\"tight\")\n",
    "plt.savefig(\"../plots/corner_HMM.svg\", bbox_inches=\"tight\")"
   ]
  },
  {
   "cell_type": "markdown",
   "id": "c4391894",
   "metadata": {},
   "source": [
    "## Transition Matrix\n"
   ]
  },
  {
   "cell_type": "code",
   "execution_count": null,
   "id": "a133c275",
   "metadata": {},
   "outputs": [],
   "source": [
    "\n",
    "# modify the transition matrix for nicer coloring\n",
    "mod_A = -1 * np.ones_like(extended_systm.A)\n",
    "for key, nums in extended_systm.mask.items():\n",
    "    for i in nums:\n",
    "        mod_A[key, i] = extended_systm.A[key, i]\n",
    "\n",
    "# Divide the Matrix into three submatrices\n",
    "x_values = [extended_systm.state_list[:32],extended_systm.state_list[32:], extended_systm.state_list[32:]]\n",
    "y_values = [extended_systm.state_list[:32],extended_systm.state_list[:32], extended_systm.state_list[32:]]\n",
    "partA = [mod_A[:32,:32], mod_A[:32,32:], mod_A[32:,32:]]\n",
    "name = [\"1\", \"2\",\"3\"]\n",
    "\n",
    "#Create the plot for each submatrix\n",
    "for k , val in enumerate(x_values):\n",
    "    fig, ax = plt.subplots(figsize=set_size(ratio=1., width=\"full\"),\n",
    "                       constrained_layout=True)\n",
    "\n",
    "    h = ax.imshow(partA[k], cmap=halfGray_halfGreenToRed, vmin=-1., vmax=1.)\n",
    "    ax.set_xticks(range(len(x_values[k])))\n",
    "    ax.set_xticklabels(x_values[k], rotation=-90, fontsize=20)\n",
    "    ax.set_yticks(range(len(y_values[k])))\n",
    "    ax.set_yticklabels(y_values[k], fontsize=20)\n",
    "    ax.tick_params(direction=\"out\")\n",
    "    ax.grid(False)\n",
    "\n",
    "    # label the non-zero entries with their probability in %\n",
    "    for i in range(len(x_values[k])):\n",
    "        for j in range(len(y_values[k])):\n",
    "            if mod_A[i, j] >= 0.:\n",
    "                ax.text(j, i, f\"{partA[k][i,j]*100:.1f}\", ha=\"center\", va=\"center\",\n",
    "                        color=\"white\", fontsize=14)\n",
    "\n",
    "    plt.savefig(f\"../plots/transition_matrix{name[k]}.png\", dpi=300, bbox_inches=\"tight\")\n",
    "    plt.savefig(f\"../plots/transition_matrix{name[k]}.svg\", bbox_inches=\"tight\")\n",
    "    plt.clf()"
   ]
  }
 ],
 "metadata": {
  "kernelspec": {
   "display_name": "Python 3 (ipykernel)",
   "language": "python",
   "name": "python3"
  },
  "language_info": {
   "codemirror_mode": {
    "name": "ipython",
    "version": 3
   },
   "file_extension": ".py",
   "mimetype": "text/x-python",
   "name": "python",
   "nbconvert_exporter": "python",
   "pygments_lexer": "ipython3",
   "version": "3.8.12"
  }
 },
 "nbformat": 4,
 "nbformat_minor": 5
}
