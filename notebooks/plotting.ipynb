{
 "cells": [
  {
   "cell_type": "code",
   "execution_count": 1,
   "id": "7fa694d9",
   "metadata": {},
   "outputs": [],
   "source": [
    "import pandas as pd\n",
    "import scipy as sp\n",
    "import numpy as np\n",
    "\n",
    "import emcee\n",
    "from multiprocessing import Pool\n",
    "\n",
    "import matplotlib.pyplot as plt\n",
    "import matplotlib.gridspec as gs\n",
    "from matplotlib import font_manager\n",
    "from matplotlib.colors import LinearSegmentedColormap\n",
    "from matplotlib.colors import ListedColormap\n",
    "from cycler import cycler\n",
    "import corner\n",
    "from typing import Any, Dict, List, Optional, Tuple, Union\n",
    "\n",
    "import lymph"
   ]
  },
  {
   "cell_type": "code",
   "execution_count": null,
   "id": "58e5edbd",
   "metadata": {},
   "outputs": [],
   "source": [
    "filename = \"../data/extended_system.hdf5\"\n",
    "\n",
    "extended_systm = lymph.utils.system_from_hdf(\n",
    "    filename=filename,\n",
    "    name=\"extended/model\")\n",
    "\n",
    "samples_HMM = emcee.backends.HDFBackend(filename=filename, name=\"extended/samples\").get_chain(flat=True, discard=5000)\n",
    "\n",
    "spread_probs = []\n",
    "late_p = []\n",
    "for sample in samples_HMM:\n",
    "    spread_probs.append(sample[:-1])\n",
    "    late_p.append(sample[-1])\n",
    "\n",
    "extended_systm.spread_probs = np.mean(spread_probs, axis=0)\n",
    "mean_late_p = np.mean(np.array(late_p), axis=0)\n"
   ]
  },
  {
   "cell_type": "markdown",
   "id": "4696f5d7",
   "metadata": {},
   "source": [
    "## Plot Settings\n",
    "\n"
   ]
  },
  {
   "cell_type": "code",
   "execution_count": 2,
   "id": "74295274",
   "metadata": {},
   "outputs": [
    {
     "data": {
      "text/plain": [
       "<Figure size 1889.76x1889.76 with 0 Axes>"
      ]
     },
     "metadata": {},
     "output_type": "display_data"
    }
   ],
   "source": [
    "plt.style.use(\"../styles/lymph.mplstyle\")\n",
    "\n",
    "def set_size(width=\"single\", unit=\"cm\", ratio=\"golden\"):\n",
    "    if width == \"single\":\n",
    "        width = 10\n",
    "    elif width == \"full\":\n",
    "        width = 32\n",
    "    else:\n",
    "        try:\n",
    "            width = width\n",
    "        except:\n",
    "            width = 10\n",
    "\n",
    "    if unit == \"cm\":\n",
    "        width = width / 2.54\n",
    "\n",
    "    if ratio == \"golden\":\n",
    "        ratio = 1.618\n",
    "    else:\n",
    "        ratio = ratio\n",
    "\n",
    "    try:\n",
    "        height = width / ratio\n",
    "    except:\n",
    "        height = width / 1.618\n",
    "\n",
    "    return (width, height)\n",
    "\n",
    "labels = [r\"$\\tilde{b}_2$\", r\"$\\tilde{b}_3$\",\n",
    "          r\"$\\tilde{b}_4$\", r\"$\\tilde{b}_7$\",\n",
    "          r\"$\\tilde{t}_{21}$\", r\"$\\tilde{t}_{23}$\", r\"$\\tilde{t}_{25}$\", r\"$\\tilde{t}_{27}$\", r\"$\\tilde{t}_{36}$\"]\n",
    "\n",
    "\n",
    "fig = plt.figure(figsize=set_size(width=\"full\", ratio=1))\n",
    "\n",
    "\n",
    "# USZ colors\n",
    "usz_blue = '#005ea8'\n",
    "usz_green = '#00afa5'\n",
    "usz_red = '#ae0060'\n",
    "usz_orange = '#f17900'\n",
    "usz_gray = '#c5d5db'\n",
    "\n",
    "# colormaps\n",
    "white_to_blue  = LinearSegmentedColormap.from_list(\"white_to_blue\", \n",
    "                                                   [\"#ffffff\", usz_blue], \n",
    "                                                   N=256)\n",
    "white_to_green = LinearSegmentedColormap.from_list(\"white_to_green\", \n",
    "                                                   [\"#ffffff\", usz_green], \n",
    "                                                   N=256)\n",
    "green_to_red   = LinearSegmentedColormap.from_list(\"green_to_red\", \n",
    "                                                   [usz_green, usz_red], \n",
    "                                                   N=256)\n",
    "\n",
    "h = usz_gray.lstrip('#')\n",
    "gray_rgba = tuple(int(h[i:i+2], 16) / 255. for i in (0, 2, 4)) + (1.0,)\n",
    "tmp = LinearSegmentedColormap.from_list(\"tmp\", [usz_green, usz_red], N=128)\n",
    "tmp = tmp(np.linspace(0., 1., 128))\n",
    "tmp = np.vstack([np.array([gray_rgba]*128), tmp])\n",
    "halfGray_halfGreenToRed = ListedColormap(tmp)"
   ]
  },
  {
   "cell_type": "markdown",
   "id": "07de43a7",
   "metadata": {},
   "source": [
    "## Corner Plot\n"
   ]
  },
  {
   "cell_type": "code",
   "execution_count": null,
   "id": "8222e898",
   "metadata": {},
   "outputs": [],
   "source": [
    "\n",
    "corner.corner(np.array(spread_probs), labels=labels, smooth=True, fig=fig,\n",
    "              hist_kwargs={'histtype': 'stepfilled', 'color': usz_blue},\n",
    "              **{'plot_datapoints': False, 'no_fill_contours': True,\n",
    "                 \"density_cmap\": white_to_blue.reversed(),\n",
    "                 \"contour_kwargs\": {\"colors\": \"k\"},\n",
    "                 \"levels\": np.array([0.2, 0.5, 0.8])},\n",
    "              show_titles=True, title_kwargs={\"fontsize\": \"medium\"})\n",
    "\n",
    "axes = fig.get_axes()\n",
    "for ax in axes:\n",
    "    ax.grid(False)\n",
    "\n",
    "\n",
    "plt.savefig(\"../plots/corner_HMM.png\", dpi=300, bbox_inches=\"tight\")\n",
    "plt.savefig(\"../plots/corner_HMM.svg\", bbox_inches=\"tight\")"
   ]
  },
  {
   "cell_type": "markdown",
   "id": "c4391894",
   "metadata": {},
   "source": [
    "## Transition Matrix\n"
   ]
  },
  {
   "cell_type": "code",
   "execution_count": null,
   "id": "a133c275",
   "metadata": {},
   "outputs": [],
   "source": [
    "\n",
    "# modify the transition matrix for nicer coloring\n",
    "mod_A = -1 * np.ones_like(extended_systm.A)\n",
    "for key, nums in extended_systm.mask.items():\n",
    "    for i in nums:\n",
    "        mod_A[key, i] = extended_systm.A[key, i]\n",
    "\n",
    "# Divide the Matrix into three submatrices\n",
    "x_values = [extended_systm.state_list[:32],extended_systm.state_list[32:], extended_systm.state_list[32:]]\n",
    "y_values = [extended_systm.state_list[:32],extended_systm.state_list[:32], extended_systm.state_list[32:]]\n",
    "partA = [mod_A[:32,:32], mod_A[:32,32:], mod_A[32:,32:]]\n",
    "name = [\"1\", \"2\",\"3\"]\n",
    "\n",
    "#Create the plot for each submatrix\n",
    "for k , val in enumerate(x_values):\n",
    "    fig, ax = plt.subplots(figsize=set_size(ratio=1., width=\"full\"),\n",
    "                       constrained_layout=True)\n",
    "\n",
    "    h = ax.imshow(partA[k], cmap=halfGray_halfGreenToRed, vmin=-1., vmax=1.)\n",
    "    ax.set_xticks(range(len(x_values[k])))\n",
    "    ax.set_xticklabels(x_values[k], rotation=-90, fontsize=20)\n",
    "    ax.set_yticks(range(len(y_values[k])))\n",
    "    ax.set_yticklabels(y_values[k], fontsize=20)\n",
    "    ax.tick_params(direction=\"out\")\n",
    "    ax.grid(False)\n",
    "\n",
    "    # label the non-zero entries with their probability in %\n",
    "    for i in range(len(x_values[k])):\n",
    "        for j in range(len(y_values[k])):\n",
    "            if mod_A[i, j] >= 0.:\n",
    "                ax.text(j, i, f\"{partA[k][i,j]*100:.1f}\", ha=\"center\", va=\"center\",\n",
    "                        color=\"white\", fontsize=14)\n",
    "\n",
    "    plt.savefig(f\"../plots/transition_matrix{name[k]}.png\", dpi=300, bbox_inches=\"tight\")\n",
    "    plt.savefig(f\"../plots/transition_matrix{name[k]}.svg\", bbox_inches=\"tight\")\n",
    "    plt.clf()"
   ]
  }
 ],
 "metadata": {
  "kernelspec": {
   "display_name": "Python 3 (ipykernel)",
   "language": "python",
   "name": "python3"
  },
  "language_info": {
   "codemirror_mode": {
    "name": "ipython",
    "version": 3
   },
   "file_extension": ".py",
   "mimetype": "text/x-python",
   "name": "python",
   "nbconvert_exporter": "python",
   "pygments_lexer": "ipython3",
   "version": "3.8.12"
  }
 },
 "nbformat": 4,
 "nbformat_minor": 5
}
