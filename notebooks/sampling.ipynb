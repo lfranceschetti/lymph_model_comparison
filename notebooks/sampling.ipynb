{
 "cells": [
  {
   "cell_type": "markdown",
   "id": "080784ea",
   "metadata": {},
   "source": [
    "## Importing"
   ]
  },
  {
   "cell_type": "code",
   "execution_count": null,
   "id": "1b6a8aba",
   "metadata": {},
   "outputs": [],
   "source": [
    "import pandas as pd\n",
    "import scipy as sp\n",
    "import numpy as np\n",
    "\n",
    "import emcee\n",
    "from multiprocessing import Pool\n",
    "\n",
    "import matplotlib.pyplot as plt\n",
    "import matplotlib.gridspec as gs\n",
    "from matplotlib import font_manager\n",
    "from matplotlib.colors import LinearSegmentedColormap\n",
    "from matplotlib.colors import ListedColormap\n",
    "from cycler import cycler\n",
    "import corner\n",
    "from typing import Any, Dict, List, Optional, Tuple, Union\n",
    "\n",
    "import lymph"
   ]
  },
  {
   "cell_type": "markdown",
   "id": "5ad80910",
   "metadata": {},
   "source": [
    "## Creating or Loading Model"
   ]
  },
  {
   "cell_type": "code",
   "execution_count": 3,
   "id": "9fd5cb54",
   "metadata": {},
   "outputs": [
    {
     "ename": "NameError",
     "evalue": "name 'lymph' is not defined",
     "output_type": "error",
     "traceback": [
      "\u001b[1;31m---------------------------------------------------------------------------\u001b[0m",
      "\u001b[1;31mNameError\u001b[0m                                 Traceback (most recent call last)",
      "\u001b[1;32mc:\\Users\\Luca\\lymph_notebooks\\notebooks\\sampling.ipynb Cell 4'\u001b[0m in \u001b[0;36m<module>\u001b[1;34m\u001b[0m\n\u001b[0;32m      <a href='vscode-notebook-cell:/c%3A/Users/Luca/lymph_notebooks/notebooks/sampling.ipynb#ch0000003?line=0'>1</a>\u001b[0m filename \u001b[39m=\u001b[39m \u001b[39m\"\u001b[39m\u001b[39m../data/extended_system.hdf5\u001b[39m\u001b[39m\"\u001b[39m\n\u001b[0;32m      <a href='vscode-notebook-cell:/c%3A/Users/Luca/lymph_notebooks/notebooks/sampling.ipynb#ch0000003?line=2'>3</a>\u001b[0m graph \u001b[39m=\u001b[39m {\n\u001b[0;32m      <a href='vscode-notebook-cell:/c%3A/Users/Luca/lymph_notebooks/notebooks/sampling.ipynb#ch0000003?line=3'>4</a>\u001b[0m     (\u001b[39m'\u001b[39m\u001b[39mtumor\u001b[39m\u001b[39m'\u001b[39m, \u001b[39m'\u001b[39m\u001b[39mprimary\u001b[39m\u001b[39m'\u001b[39m) : [\u001b[39m'\u001b[39m\u001b[39mII\u001b[39m\u001b[39m'\u001b[39m, \u001b[39m'\u001b[39m\u001b[39mIII\u001b[39m\u001b[39m'\u001b[39m, \u001b[39m'\u001b[39m\u001b[39mIV\u001b[39m\u001b[39m'\u001b[39m,\u001b[39m'\u001b[39m\u001b[39mVII\u001b[39m\u001b[39m'\u001b[39m],\n\u001b[0;32m      <a href='vscode-notebook-cell:/c%3A/Users/Luca/lymph_notebooks/notebooks/sampling.ipynb#ch0000003?line=4'>5</a>\u001b[0m     (\u001b[39m'\u001b[39m\u001b[39mlnl\u001b[39m\u001b[39m'\u001b[39m, \u001b[39m'\u001b[39m\u001b[39mI\u001b[39m\u001b[39m'\u001b[39m)         : [], \n\u001b[1;32m   (...)\u001b[0m\n\u001b[0;32m     <a href='vscode-notebook-cell:/c%3A/Users/Luca/lymph_notebooks/notebooks/sampling.ipynb#ch0000003?line=9'>10</a>\u001b[0m     (\u001b[39m'\u001b[39m\u001b[39mlnl\u001b[39m\u001b[39m'\u001b[39m, \u001b[39m'\u001b[39m\u001b[39mVII\u001b[39m\u001b[39m'\u001b[39m)       : [],\n\u001b[0;32m     <a href='vscode-notebook-cell:/c%3A/Users/Luca/lymph_notebooks/notebooks/sampling.ipynb#ch0000003?line=10'>11</a>\u001b[0m }\n\u001b[1;32m---> <a href='vscode-notebook-cell:/c%3A/Users/Luca/lymph_notebooks/notebooks/sampling.ipynb#ch0000003?line=11'>12</a>\u001b[0m extended_systm \u001b[39m=\u001b[39m lymph\u001b[39m.\u001b[39mUnilateral(graph\u001b[39m=\u001b[39mgraph)\n\u001b[0;32m     <a href='vscode-notebook-cell:/c%3A/Users/Luca/lymph_notebooks/notebooks/sampling.ipynb#ch0000003?line=13'>14</a>\u001b[0m \u001b[39mprint\u001b[39m(extended_systm)\n",
      "\u001b[1;31mNameError\u001b[0m: name 'lymph' is not defined"
     ]
    }
   ],
   "source": [
    "filename = \"../data/extended_system.hdf5\"\n",
    "\n",
    "graph = {\n",
    "    ('tumor', 'primary') : ['II', 'III', 'IV','VII'],\n",
    "    ('lnl', 'I')         : [], \n",
    "    ('lnl', 'II')        : ['I', 'III', 'V', 'VII'], \n",
    "    ('lnl', 'III')       : ['IV'], \n",
    "    ('lnl', 'IV')        : [],\n",
    "    ('lnl', 'V')         : [],\n",
    "    ('lnl', 'VII')       : [],\n",
    "}\n",
    "extended_systm = lymph.Unilateral(graph=graph)\n",
    "\n",
    "print(extended_systm)"
   ]
  },
  {
   "cell_type": "markdown",
   "id": "b7ac794b",
   "metadata": {},
   "source": [
    "## Modalities"
   ]
  },
  {
   "cell_type": "code",
   "execution_count": null,
   "id": "a2663e5e",
   "metadata": {},
   "outputs": [],
   "source": [
    "spsn = {\"PET\": [0.86, 0.79],\n",
    "        \"MRI\": [0.63, 0.81],\n",
    "        \"diagnostic_consensus\": [0.63, 0.81],\n",
    "        \"pathology\": [1., 1.]}\n",
    "#                         ^   ^\n",
    "#                specificty   sensitivity\n",
    "extended_systm.modalities = spsn"
   ]
  },
  {
   "cell_type": "markdown",
   "id": "f8bd5c6f",
   "metadata": {},
   "source": [
    "## Data"
   ]
  },
  {
   "cell_type": "code",
   "execution_count": null,
   "id": "a9c21062",
   "metadata": {},
   "outputs": [],
   "source": [
    "\n",
    "data = pd.read_csv(\"latest.csv\", header=[0,1,2] )\n",
    "t_stage = data.iloc[:,18]\n",
    "data = data.iloc[:,21:168]\n",
    "ipsi_data = data.xs(\"ipsi\",level=1,axis=1)\n",
    "t_stage.loc[t_stage <= 2, ] = \"early\"\n",
    "t_stage.loc[t_stage!=\"early\", ] = \"late\"\n",
    "\n",
    "\n",
    "ipsi_data[\"info\",\"t_stage\"]= t_stage\n",
    "ipsi_data = ipsi_data.drop(['Ia', 'Ib',\"IIa\",\"IIb\"], level=1, axis=1)\n",
    "ipsi_data = ipsi_data.drop(['CT', 'FNA',\"pCT\"], level=0, axis=1)\n",
    "\n",
    "extended_systm.patient_data = ipsi_data\n"
   ]
  },
  {
   "cell_type": "markdown",
   "id": "fc495797",
   "metadata": {},
   "source": [
    "## Storage of model"
   ]
  },
  {
   "cell_type": "code",
   "execution_count": null,
   "id": "4f9bbf51",
   "metadata": {},
   "outputs": [],
   "source": [
    "extended_systm.to_hdf(\n",
    "    filename=filename, \n",
    "    name=\"extended/model\"\n",
    ")"
   ]
  },
  {
   "cell_type": "markdown",
   "id": "306350c3",
   "metadata": {},
   "source": [
    "## Likelihood"
   ]
  },
  {
   "cell_type": "code",
   "execution_count": null,
   "id": "dc23bcfe",
   "metadata": {},
   "outputs": [],
   "source": [
    "#settings for the binom distributions\n",
    "early_p=0.3\n",
    "max_t=10\n",
    "t = np.arange(max_t + 1)\n",
    "\n",
    "def llh(theta):\n",
    "    spread_probs, late_p = theta[:-1], theta[-1]\n",
    "    \n",
    "    print(\"run\")\n",
    "    if late_p > 1. or late_p < 0.:\n",
    "        return -np.inf\n",
    "    \n",
    "    \n",
    "    time_dists={\n",
    "        \"early\": sp.stats.binom.pmf(t, max_t, early_p),\n",
    "        \"late\" : sp.stats.binom.pmf(t, max_t, late_p),\n",
    "    }\n",
    "     \n",
    "    return extended_systm.marginal_log_likelihood(spread_probs, t_stages=[\"early\", \"late\"], time_dists=time_dists)"
   ]
  },
  {
   "cell_type": "markdown",
   "id": "464512f4",
   "metadata": {},
   "source": [
    "## Sampling"
   ]
  },
  {
   "cell_type": "code",
   "execution_count": null,
   "id": "484f5ac9",
   "metadata": {},
   "outputs": [],
   "source": [
    "# Settings for the sampler\n",
    "ndim = len(extended_systm.spread_probs) + 1\n",
    "nwalkers = 2 * ndim\n",
    "nstep = 10\n",
    "burnin = 5\n",
    "moves = [(emcee.moves.DEMove(), 0.8), (emcee.moves.DESnookerMove(), 0.2)]\n",
    "\n",
    "\n",
    "#prepare the backend\n",
    "backend = emcee.backends.HDFBackend(\n",
    "    filename=\"extended_system.hdf5\",\n",
    "    name=\"extended/samples\"\n",
    ")\n",
    "backend.reset(nwalkers, ndim)\n",
    "\n",
    "\n",
    "# starting point\n",
    "initial_spread_probs = np.random.uniform(low=0., high=1., size=(nwalkers,ndim))\n",
    "\n",
    "\n",
    "if __name__ == \"__main__\":\n",
    "    sampler = emcee.EnsembleSampler(\n",
    "        nwalkers, ndim, \n",
    "        llh, \n",
    "        moves=moves,\n",
    "        backend=backend\n",
    "    )\n",
    "    sampler.run_mcmc(initial_spread_probs, nstep, progress=True)\n",
    "    samples_HMM = sampler.get_chain(flat=True, discard=burnin)\n",
    "    print(samples_HMM)      \n",
    "\n",
    "\n"
   ]
  }
 ],
 "metadata": {
  "kernelspec": {
   "display_name": "Python 3 (ipykernel)",
   "language": "python",
   "name": "python3"
  },
  "language_info": {
   "codemirror_mode": {
    "name": "ipython",
    "version": 3
   },
   "file_extension": ".py",
   "mimetype": "text/x-python",
   "name": "python",
   "nbconvert_exporter": "python",
   "pygments_lexer": "ipython3",
   "version": "3.8.12"
  }
 },
 "nbformat": 4,
 "nbformat_minor": 5
}
