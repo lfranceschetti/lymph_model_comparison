{
 "cells": [
  {
   "cell_type": "markdown",
   "id": "080784ea",
   "metadata": {},
   "source": [
    "## Importing"
   ]
  },
  {
   "cell_type": "code",
   "execution_count": 1,
   "id": "1b6a8aba",
   "metadata": {},
   "outputs": [],
   "source": [
    "import pandas as pd\n",
    "import scipy as sp\n",
    "import numpy as np\n",
    "\n",
    "import emcee\n",
    "from multiprocessing import Pool\n",
    "\n",
    "import matplotlib.pyplot as plt\n",
    "import matplotlib.gridspec as gs\n",
    "from matplotlib import font_manager\n",
    "from matplotlib.colors import LinearSegmentedColormap\n",
    "from matplotlib.colors import ListedColormap\n",
    "from cycler import cycler\n",
    "import corner\n",
    "from typing import Any, Dict, List, Optional, Tuple, Union\n",
    "\n",
    "import lymph"
   ]
  },
  {
   "cell_type": "markdown",
   "id": "5ad80910",
   "metadata": {},
   "source": [
    "## Creating or Loading Model"
   ]
  },
  {
   "cell_type": "code",
   "execution_count": 2,
   "id": "9fd5cb54",
   "metadata": {},
   "outputs": [
    {
     "name": "stdout",
     "output_type": "stream",
     "text": [
      "Unilateral lymphatic system with 1 tumor(s) and 6 LNL(s).\n",
      "primary-0.0%->VII primary-0.0%->II primary-0.0%->IV primary-0.0%->I primary-0.0%->III primary-0.0%->V II-0.0%->V II-0.0%->III II-0.0%->VII II-0.0%->I III-0.0%->IV\n"
     ]
    }
   ],
   "source": [
    "filename = \"../data/extended_system.hdf5\"\n",
    "\n",
    "graph = {\n",
    "    ('tumor', 'primary'): ['I', 'II', 'III', 'IV', 'V', 'VII'],\n",
    "    ('lnl', 'I'): [],\n",
    "    ('lnl', 'II'): ['I', 'III', 'V', 'VII'],\n",
    "    ('lnl', 'III'): ['IV'],\n",
    "    ('lnl', 'IV'): [],\n",
    "    ('lnl', 'V'): [],\n",
    "    ('lnl', 'VII'): [],\n",
    "}\n",
    "extended_systm = lymph.Unilateral(graph=graph)\n",
    "\n",
    "\n",
    "print(extended_systm)"
   ]
  },
  {
   "cell_type": "markdown",
   "id": "b7ac794b",
   "metadata": {},
   "source": [
    "## Modalities"
   ]
  },
  {
   "cell_type": "code",
   "execution_count": 3,
   "id": "a2663e5e",
   "metadata": {},
   "outputs": [],
   "source": [
    "spsn = {\"PET\": [0.86, 0.79],\n",
    "        \"MRI\": [0.63, 0.81],\n",
    "        \"diagnostic_consensus\": [0.63, 0.81],\n",
    "        \"pathology\": [1., 1.]}\n",
    "#                         ^   ^\n",
    "#                specificty   sensitivity\n",
    "extended_systm.modalities = spsn"
   ]
  },
  {
   "cell_type": "markdown",
   "id": "f8bd5c6f",
   "metadata": {},
   "source": [
    "## Data"
   ]
  },
  {
   "cell_type": "code",
   "execution_count": 4,
   "id": "a9c21062",
   "metadata": {},
   "outputs": [
    {
     "name": "stderr",
     "output_type": "stream",
     "text": [
      "C:\\Users\\Luca\\AppData\\Local\\Temp\\ipykernel_20056\\1607458719.py:9: SettingWithCopyWarning: \n",
      "A value is trying to be set on a copy of a slice from a DataFrame.\n",
      "Try using .loc[row_indexer,col_indexer] = value instead\n",
      "\n",
      "See the caveats in the documentation: https://pandas.pydata.org/pandas-docs/stable/user_guide/indexing.html#returning-a-view-versus-a-copy\n",
      "  ipsi_data[\"info\",\"t_stage\"]= t_stage\n"
     ]
    }
   ],
   "source": [
    "\n",
    "data = pd.read_csv(\"../data/latest.csv\", header=[0,1,2] )\n",
    "t_stage = data.iloc[:,18]\n",
    "data = data.iloc[:,21:168]\n",
    "ipsi_data = data.xs(\"ipsi\",level=1,axis=1)\n",
    "t_stage.loc[t_stage <= 2, ] = \"early\"\n",
    "t_stage.loc[t_stage!=\"early\", ] = \"late\"\n",
    "\n",
    "\n",
    "ipsi_data[\"info\",\"t_stage\"]= t_stage\n",
    "ipsi_data = ipsi_data.drop(['Ia', 'Ib',\"IIa\",\"IIb\"], level=1, axis=1)\n",
    "ipsi_data = ipsi_data.drop(['CT', 'FNA',\"pCT\"], level=0, axis=1)\n",
    "\n",
    "ipsi_data.to_csv(\"../data/ipsi_data.csv\", index=False)\n",
    "\n",
    "extended_systm.patient_data = ipsi_data\n"
   ]
  },
  {
   "cell_type": "markdown",
   "id": "fc495797",
   "metadata": {},
   "source": [
    "## Storage of model"
   ]
  },
  {
   "cell_type": "code",
   "execution_count": 5,
   "id": "4f9bbf51",
   "metadata": {},
   "outputs": [
    {
     "name": "stderr",
     "output_type": "stream",
     "text": [
      "C:\\Users\\Luca\\anaconda3\\envs\\lymph2\\lib\\site-packages\\lymph\\utils.py:253: PerformanceWarning: \n",
      "your performance may suffer as PyTables will pickle object types that it cannot\n",
      "map directly to c-types [inferred_type->mixed,key->block0_values] [items->MultiIndex([(                 'MRI',       'I'),\n",
      "            (                 'MRI',      'II'),\n",
      "            (                 'MRI',     'III'),\n",
      "            (                 'MRI',      'IV'),\n",
      "            (                 'MRI',       'V'),\n",
      "            (                 'MRI',     'VII'),\n",
      "            (                 'PET',       'I'),\n",
      "            (                 'PET',      'II'),\n",
      "            (                 'PET',     'III'),\n",
      "            (                 'PET',      'IV'),\n",
      "            (                 'PET',       'V'),\n",
      "            (                 'PET',     'VII'),\n",
      "            ('diagnostic_consensus',       'I'),\n",
      "            ('diagnostic_consensus',      'II'),\n",
      "            ('diagnostic_consensus',     'III'),\n",
      "            ('diagnostic_consensus',      'IV'),\n",
      "            ('diagnostic_consensus',       'V'),\n",
      "            ('diagnostic_consensus',     'VII'),\n",
      "            (           'pathology',       'I'),\n",
      "            (           'pathology',      'II'),\n",
      "            (           'pathology',     'III'),\n",
      "            (           'pathology',      'IV'),\n",
      "            (           'pathology',       'V'),\n",
      "            (           'pathology',     'VII'),\n",
      "            (                'info', 't_stage')],\n",
      "           )]\n",
      "\n",
      "  store.put(\n"
     ]
    }
   ],
   "source": [
    "extended_systm.to_hdf(\n",
    "    filename=filename, \n",
    "    name=\"extended/model\"\n",
    ")"
   ]
  },
  {
   "cell_type": "markdown",
   "id": "306350c3",
   "metadata": {},
   "source": [
    "## Likelihood"
   ]
  },
  {
   "cell_type": "code",
   "execution_count": 6,
   "id": "dc23bcfe",
   "metadata": {},
   "outputs": [],
   "source": [
    "#settings for the binom distributions\n",
    "early_p=0.3\n",
    "max_t=10\n",
    "t = np.arange(max_t + 1)\n",
    "\n",
    "def llh(theta):\n",
    "    spread_probs, late_p = theta[:-1], theta[-1]\n",
    "    \n",
    "    print(\"run\")\n",
    "    if late_p > 1. or late_p < 0.:\n",
    "        return -np.inf\n",
    "    \n",
    "    \n",
    "    time_dists={\n",
    "        \"early\": sp.stats.binom.pmf(t, max_t, early_p),\n",
    "        \"late\" : sp.stats.binom.pmf(t, max_t, late_p),\n",
    "    }\n",
    "     \n",
    "    return extended_systm.marginal_log_likelihood(spread_probs, t_stages=[\"early\", \"late\"], time_dists=time_dists)"
   ]
  },
  {
   "cell_type": "markdown",
   "id": "464512f4",
   "metadata": {},
   "source": [
    "## Sampling"
   ]
  },
  {
   "cell_type": "code",
   "execution_count": 7,
   "id": "484f5ac9",
   "metadata": {},
   "outputs": [
    {
     "name": "stdout",
     "output_type": "stream",
     "text": [
      "run\n",
      "run\n",
      "run\n",
      "run\n",
      "run\n",
      "run\n",
      "run\n",
      "run\n",
      "run\n",
      "run\n",
      "run\n",
      "run\n",
      "run\n",
      "run\n",
      "run\n",
      "run\n",
      "run\n",
      "run\n",
      "run\n",
      "run\n",
      "run\n",
      "run\n",
      "run\n",
      "run\n"
     ]
    },
    {
     "name": "stderr",
     "output_type": "stream",
     "text": [
      " 20%|██        | 2/10 [00:00<00:00, 19.80it/s]"
     ]
    },
    {
     "name": "stdout",
     "output_type": "stream",
     "text": [
      "run\n",
      "run\n",
      "run\n",
      "run\n",
      "run\n",
      "run\n",
      "run\n",
      "run\n",
      "run\n",
      "run\n",
      "run\n",
      "run\n",
      "run\n",
      "run\n",
      "run\n",
      "run\n",
      "run\n",
      "run\n",
      "run\n",
      "run\n",
      "run\n",
      "run\n",
      "run\n",
      "run\n",
      "run\n",
      "run\n",
      "run\n",
      "run\n",
      "run\n",
      "run\n",
      "run\n",
      "run\n",
      "run\n",
      "run\n",
      "run\n",
      "run\n",
      "run\n",
      "run\n",
      "run\n",
      "run\n",
      "run\n",
      "run\n",
      "run\n",
      "run\n",
      "run\n",
      "run\n",
      "run\n",
      "run\n",
      "run\n",
      "run\n",
      "run\n",
      "run\n",
      "run\n",
      "run\n",
      "run\n",
      "run\n",
      "run\n",
      "run\n",
      "run\n",
      "run\n",
      "run\n",
      "run\n",
      "run\n",
      "run\n",
      "run\n",
      "run\n",
      "run\n",
      "run\n",
      "run\n",
      "run\n",
      "run\n",
      "run\n",
      "run\n",
      "run\n",
      "run\n",
      "run\n",
      "run\n",
      "run\n",
      "run\n",
      "run\n",
      "run\n",
      "run\n",
      "run\n",
      "run\n",
      "run\n",
      "run\n",
      "run\n",
      "run\n",
      "run\n",
      "run\n",
      "run\n",
      "run\n",
      "run\n",
      "run\n",
      "run\n",
      "run\n"
     ]
    },
    {
     "name": "stderr",
     "output_type": "stream",
     "text": [
      " 60%|██████    | 6/10 [00:00<00:00, 16.37it/s]"
     ]
    },
    {
     "name": "stdout",
     "output_type": "stream",
     "text": [
      "run\n",
      "run\n",
      "run\n",
      "run\n",
      "run\n",
      "run\n",
      "run\n",
      "run\n",
      "run\n",
      "run\n",
      "run\n",
      "run\n",
      "run\n",
      "run\n",
      "run\n",
      "run\n",
      "run\n",
      "run\n",
      "run\n",
      "run\n",
      "run\n",
      "run\n",
      "run\n",
      "run\n",
      "run\n",
      "run\n",
      "run\n",
      "run\n",
      "run\n",
      "run\n",
      "run\n",
      "run\n",
      "run\n",
      "run\n",
      "run\n",
      "run\n",
      "run\n",
      "run\n",
      "run\n",
      "run\n",
      "run\n",
      "run\n",
      "run\n",
      "run\n",
      "run\n",
      "run\n",
      "run\n",
      "run\n",
      "run\n",
      "run\n",
      "run\n",
      "run\n",
      "run\n",
      "run\n",
      "run\n",
      "run\n",
      "run\n",
      "run\n",
      "run\n",
      "run\n",
      "run\n",
      "run\n",
      "run\n",
      "run\n",
      "run\n",
      "run\n",
      "run\n"
     ]
    },
    {
     "name": "stderr",
     "output_type": "stream",
     "text": [
      " 80%|████████  | 8/10 [00:00<00:00, 15.02it/s]"
     ]
    },
    {
     "name": "stdout",
     "output_type": "stream",
     "text": [
      "run\n",
      "run\n",
      "run\n",
      "run\n",
      "run\n",
      "run\n",
      "run\n",
      "run\n",
      "run\n",
      "run\n",
      "run\n",
      "run\n",
      "run\n",
      "run\n",
      "run\n",
      "run\n",
      "run\n",
      "run\n",
      "run\n",
      "run\n",
      "run\n",
      "run\n",
      "run\n",
      "run\n",
      "run\n",
      "run\n",
      "run\n",
      "run\n",
      "run\n",
      "run\n",
      "run\n",
      "run\n",
      "run\n",
      "run\n",
      "run\n",
      "run\n",
      "run\n",
      "run\n",
      "run\n",
      "run\n",
      "run\n",
      "run\n",
      "run\n",
      "run\n",
      "run\n",
      "run\n",
      "run\n",
      "run\n",
      "run\n",
      "run\n",
      "run\n",
      "run\n",
      "run\n",
      "run\n",
      "run\n",
      "run\n",
      "run\n",
      "run\n",
      "run\n",
      "run\n"
     ]
    },
    {
     "name": "stderr",
     "output_type": "stream",
     "text": [
      "100%|██████████| 10/10 [00:00<00:00, 15.89it/s]"
     ]
    },
    {
     "name": "stdout",
     "output_type": "stream",
     "text": [
      "run\n",
      "run\n",
      "run\n",
      "run\n",
      "run\n",
      "run\n",
      "run\n",
      "run\n",
      "run\n",
      "run\n",
      "run\n",
      "run\n",
      "run\n",
      "run\n",
      "run\n",
      "run\n",
      "run\n"
     ]
    },
    {
     "name": "stderr",
     "output_type": "stream",
     "text": [
      "100%|██████████| 10/10 [00:00<00:00, 16.03it/s]"
     ]
    },
    {
     "name": "stdout",
     "output_type": "stream",
     "text": [
      "[[0.7085506  0.24891566 0.5312608  ... 0.20346184 0.78069308 0.6275805 ]\n",
      " [0.7450237  0.35668552 0.62526514 ... 0.85880199 0.04437147 0.32984468]\n",
      " [0.04078955 0.41070053 0.90435865 ... 0.0389364  0.6994415  0.57054242]\n",
      " ...\n",
      " [0.8309393  0.50403191 0.23338386 ... 0.74398234 0.53009747 0.22302256]\n",
      " [0.27429036 0.32476246 0.28723437 ... 0.80912811 0.69440279 0.78116214]\n",
      " [0.02001092 0.42238799 0.08707033 ... 0.25908282 0.3030518  0.21193677]]\n"
     ]
    },
    {
     "name": "stderr",
     "output_type": "stream",
     "text": [
      "\n"
     ]
    }
   ],
   "source": [
    "# Settings for the sampler\n",
    "ndim = len(extended_systm.spread_probs) + 1\n",
    "nwalkers = 20 * ndim\n",
    "nstep = 10000\n",
    "burnin = 5000\n",
    "moves = [(emcee.moves.DEMove(), 0.8), (emcee.moves.DESnookerMove(), 0.2)]\n",
    "\n",
    "\n",
    "#prepare the backend\n",
    "backend = emcee.backends.HDFBackend(\n",
    "    filename=filename,\n",
    "    name=\"extended/samples\"\n",
    ")\n",
    "backend.reset(nwalkers, ndim)\n",
    "\n",
    "\n",
    "# starting point\n",
    "initial_spread_probs = np.random.uniform(low=0., high=1., size=(nwalkers,ndim))\n",
    "\n",
    "\n",
    "if __name__ == \"__main__\":\n",
    "    sampler = emcee.EnsembleSampler(\n",
    "        nwalkers, ndim, \n",
    "        llh, \n",
    "        moves=moves,\n",
    "        backend=backend\n",
    "    )\n",
    "    sampler.run_mcmc(initial_spread_probs, nstep, progress=True)\n",
    "    samples_HMM = sampler.get_chain(flat=True, discard=burnin)\n",
    "    print(samples_HMM)      \n",
    "\n",
    "\n"
   ]
  }
 ],
 "metadata": {
  "kernelspec": {
   "display_name": "Python 3 (ipykernel)",
   "language": "python",
   "name": "python3"
  },
  "language_info": {
   "codemirror_mode": {
    "name": "ipython",
    "version": 3
   },
   "file_extension": ".py",
   "mimetype": "text/x-python",
   "name": "python",
   "nbconvert_exporter": "python",
   "pygments_lexer": "ipython3",
   "version": "3.8.12"
  }
 },
 "nbformat": 4,
 "nbformat_minor": 5
}
